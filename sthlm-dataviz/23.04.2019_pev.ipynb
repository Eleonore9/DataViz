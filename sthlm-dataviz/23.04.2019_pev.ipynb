{
 "cells": [
  {
   "cell_type": "code",
   "execution_count": 2,
   "metadata": {},
   "outputs": [],
   "source": [
    "import pandas as pd\n",
    "\n",
    "import matplotlib.pyplot as plt\n",
    "%matplotlib inline"
   ]
  },
  {
   "cell_type": "markdown",
   "metadata": {},
   "source": [
    "# Plug-in  Electric Vehicles (PEV) registered in Q4 2016 "
   ]
  },
  {
   "cell_type": "markdown",
   "metadata": {},
   "source": [
    "## Data Visualization Stockholm meetup - 23/04/2019"
   ]
  },
  {
   "cell_type": "code",
   "execution_count": 3,
   "metadata": {},
   "outputs": [],
   "source": [
    "pev_df = pd.read_csv(\"PEV Data - Sheet1.csv\")"
   ]
  },
  {
   "cell_type": "code",
   "execution_count": 4,
   "metadata": {},
   "outputs": [
    {
     "data": {
      "text/html": [
       "<div>\n",
       "<style scoped>\n",
       "    .dataframe tbody tr th:only-of-type {\n",
       "        vertical-align: middle;\n",
       "    }\n",
       "\n",
       "    .dataframe tbody tr th {\n",
       "        vertical-align: top;\n",
       "    }\n",
       "\n",
       "    .dataframe thead th {\n",
       "        text-align: right;\n",
       "    }\n",
       "</style>\n",
       "<table border=\"1\" class=\"dataframe\">\n",
       "  <thead>\n",
       "    <tr style=\"text-align: right;\">\n",
       "      <th></th>\n",
       "      <th># of PEVs registered (thousands)</th>\n",
       "      <th>Automotive Plug-In Electric Vehicle Index rank</th>\n",
       "      <th>Name</th>\n",
       "      <th>Percent</th>\n",
       "    </tr>\n",
       "  </thead>\n",
       "  <tbody>\n",
       "    <tr>\n",
       "      <th>0</th>\n",
       "      <td>11695</td>\n",
       "      <td>1</td>\n",
       "      <td>Norway</td>\n",
       "      <td>22.5</td>\n",
       "    </tr>\n",
       "    <tr>\n",
       "      <th>1</th>\n",
       "      <td>14937</td>\n",
       "      <td>2</td>\n",
       "      <td>Netherlands</td>\n",
       "      <td>12.8</td>\n",
       "    </tr>\n",
       "    <tr>\n",
       "      <th>2</th>\n",
       "      <td>3999</td>\n",
       "      <td>3</td>\n",
       "      <td>Sweden</td>\n",
       "      <td>3.4</td>\n",
       "    </tr>\n",
       "    <tr>\n",
       "      <th>3</th>\n",
       "      <td>2345</td>\n",
       "      <td>4</td>\n",
       "      <td>Belgium</td>\n",
       "      <td>1.8</td>\n",
       "    </tr>\n",
       "    <tr>\n",
       "      <th>4</th>\n",
       "      <td>9092</td>\n",
       "      <td>5</td>\n",
       "      <td>France</td>\n",
       "      <td>1.4</td>\n",
       "    </tr>\n",
       "    <tr>\n",
       "      <th>5</th>\n",
       "      <td>8582</td>\n",
       "      <td>6</td>\n",
       "      <td>United Kingdom</td>\n",
       "      <td>1.3</td>\n",
       "    </tr>\n",
       "    <tr>\n",
       "      <th>6</th>\n",
       "      <td>48149</td>\n",
       "      <td>7</td>\n",
       "      <td>United States</td>\n",
       "      <td>1.1</td>\n",
       "    </tr>\n",
       "    <tr>\n",
       "      <th>7</th>\n",
       "      <td>92836</td>\n",
       "      <td>8</td>\n",
       "      <td>China</td>\n",
       "      <td>1.1</td>\n",
       "    </tr>\n",
       "    <tr>\n",
       "      <th>8</th>\n",
       "      <td>6636</td>\n",
       "      <td>9</td>\n",
       "      <td>Germany</td>\n",
       "      <td>0.8</td>\n",
       "    </tr>\n",
       "    <tr>\n",
       "      <th>9</th>\n",
       "      <td>5029</td>\n",
       "      <td>10</td>\n",
       "      <td>Japan</td>\n",
       "      <td>0.4</td>\n",
       "    </tr>\n",
       "  </tbody>\n",
       "</table>\n",
       "</div>"
      ],
      "text/plain": [
       "   # of PEVs registered (thousands)  \\\n",
       "0                             11695   \n",
       "1                             14937   \n",
       "2                              3999   \n",
       "3                              2345   \n",
       "4                              9092   \n",
       "5                              8582   \n",
       "6                             48149   \n",
       "7                             92836   \n",
       "8                              6636   \n",
       "9                              5029   \n",
       "\n",
       "   Automotive Plug-In Electric Vehicle Index rank            Name  Percent  \n",
       "0                                               1          Norway     22.5  \n",
       "1                                               2     Netherlands     12.8  \n",
       "2                                               3          Sweden      3.4  \n",
       "3                                               4         Belgium      1.8  \n",
       "4                                               5          France      1.4  \n",
       "5                                               6  United Kingdom      1.3  \n",
       "6                                               7   United States      1.1  \n",
       "7                                               8           China      1.1  \n",
       "8                                               9         Germany      0.8  \n",
       "9                                              10           Japan      0.4  "
      ]
     },
     "execution_count": 4,
     "metadata": {},
     "output_type": "execute_result"
    }
   ],
   "source": [
    "pev_df"
   ]
  },
  {
   "cell_type": "code",
   "execution_count": 26,
   "metadata": {},
   "outputs": [],
   "source": [
    "clist = [\"#4fa38a\", \"#599a7a\", \"#639169\", \"#6e8859\", \"#788049\", \"#827738\", \"#8c6e28\", \"#8c5528\", \"#643d1d\", \"#29190c\"]\n",
    "\n",
    "plt.show()"
   ]
  },
  {
   "cell_type": "code",
   "execution_count": 27,
   "metadata": {},
   "outputs": [
    {
     "data": {
      "text/plain": [
       "<matplotlib.legend.Legend at 0x7ffbb520bf98>"
      ]
     },
     "execution_count": 27,
     "metadata": {},
     "output_type": "execute_result"
    },
    {
     "data": {
      "image/png": "[encoded data removed]",
      "text/plain": [
       "<Figure size 1440x720 with 2 Axes>"
      ]
     },
     "metadata": {
      "needs_background": "light"
     },
     "output_type": "display_data"
    }
   ],
   "source": [
    "axes = pev_df.plot.bar(rot=0, subplots=True, x=\"Name\", figsize=(20, 10), \n",
    "                       y=[\"# of PEVs registered (thousands)\", \"Percent\"],\n",
    "                       legend = False,\n",
    "                       color=[clist, clist])\n",
    "axes[1].legend(loc=1)"
   ]
  },
  {
   "cell_type": "code",
   "execution_count": null,
   "metadata": {},
   "outputs": [],
   "source": []
  }
 ],
 "metadata": {
  "kernelspec": {
   "display_name": "Python 3",
   "language": "python",
   "name": "python3"
  },
  "language_info": {
   "codemirror_mode": {
    "name": "ipython",
    "version": 3
   },
   "file_extension": ".py",
   "mimetype": "text/x-python",
   "name": "python",
   "nbconvert_exporter": "python",
   "pygments_lexer": "ipython3",
   "version": "3.6.7"
  }
 },
 "nbformat": 4,
 "nbformat_minor": 2
}
